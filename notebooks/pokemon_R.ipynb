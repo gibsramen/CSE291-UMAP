{
 "cells": [
  {
   "cell_type": "code",
   "execution_count": 1,
   "metadata": {},
   "outputs": [
    {
     "name": "stderr",
     "output_type": "stream",
     "text": [
      "\n",
      "Attaching package: ‘dplyr’\n",
      "\n",
      "The following objects are masked from ‘package:stats’:\n",
      "\n",
      "    filter, lag\n",
      "\n",
      "The following objects are masked from ‘package:base’:\n",
      "\n",
      "    intersect, setdiff, setequal, union\n",
      "\n"
     ]
    }
   ],
   "source": [
    "library(cluster)\n",
    "library(dplyr)"
   ]
  },
  {
   "cell_type": "code",
   "execution_count": 2,
   "metadata": {},
   "outputs": [
    {
     "data": {
      "text/html": [
       "<table>\n",
       "<thead><tr><th scope=col>Number</th><th scope=col>Name</th><th scope=col>Type_1</th><th scope=col>Type_2</th><th scope=col>Total</th><th scope=col>HP</th><th scope=col>Attack</th><th scope=col>Defense</th><th scope=col>Sp_Atk</th><th scope=col>Sp_Def</th><th scope=col>...</th><th scope=col>Color</th><th scope=col>hasGender</th><th scope=col>Pr_Male</th><th scope=col>Egg_Group_1</th><th scope=col>Egg_Group_2</th><th scope=col>hasMegaEvolution</th><th scope=col>Height_m</th><th scope=col>Weight_kg</th><th scope=col>Catch_Rate</th><th scope=col>Body_Style</th></tr></thead>\n",
       "<tbody>\n",
       "\t<tr><td>1             </td><td>Bulbasaur     </td><td>Grass         </td><td>Poison        </td><td>318           </td><td>45            </td><td>49            </td><td>49            </td><td> 65           </td><td> 65           </td><td>...           </td><td>Green         </td><td>True          </td><td>0.875         </td><td>Monster       </td><td>Grass         </td><td>False         </td><td>0.71          </td><td>  6.9         </td><td>45            </td><td>quadruped     </td></tr>\n",
       "\t<tr><td>2             </td><td>Ivysaur       </td><td>Grass         </td><td>Poison        </td><td>405           </td><td>60            </td><td>62            </td><td>63            </td><td> 80           </td><td> 80           </td><td>...           </td><td>Green         </td><td>True          </td><td>0.875         </td><td>Monster       </td><td>Grass         </td><td>False         </td><td>0.99          </td><td> 13.0         </td><td>45            </td><td>quadruped     </td></tr>\n",
       "\t<tr><td>3             </td><td>Venusaur      </td><td>Grass         </td><td>Poison        </td><td>525           </td><td>80            </td><td>82            </td><td>83            </td><td>100           </td><td>100           </td><td>...           </td><td>Green         </td><td>True          </td><td>0.875         </td><td>Monster       </td><td>Grass         </td><td>True          </td><td>2.01          </td><td>100.0         </td><td>45            </td><td>quadruped     </td></tr>\n",
       "\t<tr><td>4             </td><td>Charmander    </td><td>Fire          </td><td>              </td><td>309           </td><td>39            </td><td>52            </td><td>43            </td><td> 60           </td><td> 50           </td><td>...           </td><td>Red           </td><td>True          </td><td>0.875         </td><td>Monster       </td><td>Dragon        </td><td>False         </td><td>0.61          </td><td>  8.5         </td><td>45            </td><td>bipedal_tailed</td></tr>\n",
       "\t<tr><td>5             </td><td>Charmeleon    </td><td>Fire          </td><td>              </td><td>405           </td><td>58            </td><td>64            </td><td>58            </td><td> 80           </td><td> 65           </td><td>...           </td><td>Red           </td><td>True          </td><td>0.875         </td><td>Monster       </td><td>Dragon        </td><td>False         </td><td>1.09          </td><td> 19.0         </td><td>45            </td><td>bipedal_tailed</td></tr>\n",
       "\t<tr><td>6             </td><td>Charizard     </td><td>Fire          </td><td>Flying        </td><td>534           </td><td>78            </td><td>84            </td><td>78            </td><td>109           </td><td> 85           </td><td>...           </td><td>Red           </td><td>True          </td><td>0.875         </td><td>Monster       </td><td>Dragon        </td><td>True          </td><td>1.70          </td><td> 90.5         </td><td>45            </td><td>bipedal_tailed</td></tr>\n",
       "</tbody>\n",
       "</table>\n"
      ],
      "text/latex": [
       "\\begin{tabular}{r|lllllllllllllllllllllll}\n",
       " Number & Name & Type\\_1 & Type\\_2 & Total & HP & Attack & Defense & Sp\\_Atk & Sp\\_Def & ... & Color & hasGender & Pr\\_Male & Egg\\_Group\\_1 & Egg\\_Group\\_2 & hasMegaEvolution & Height\\_m & Weight\\_kg & Catch\\_Rate & Body\\_Style\\\\\n",
       "\\hline\n",
       "\t 1              & Bulbasaur      & Grass          & Poison         & 318            & 45             & 49             & 49             &  65            &  65            & ...            & Green          & True           & 0.875          & Monster        & Grass          & False          & 0.71           &   6.9          & 45             & quadruped     \\\\\n",
       "\t 2              & Ivysaur        & Grass          & Poison         & 405            & 60             & 62             & 63             &  80            &  80            & ...            & Green          & True           & 0.875          & Monster        & Grass          & False          & 0.99           &  13.0          & 45             & quadruped     \\\\\n",
       "\t 3              & Venusaur       & Grass          & Poison         & 525            & 80             & 82             & 83             & 100            & 100            & ...            & Green          & True           & 0.875          & Monster        & Grass          & True           & 2.01           & 100.0          & 45             & quadruped     \\\\\n",
       "\t 4                & Charmander       & Fire             &                  & 309              & 39               & 52               & 43               &  60              &  50              & ...              & Red              & True             & 0.875            & Monster          & Dragon           & False            & 0.61             &   8.5            & 45               & bipedal\\_tailed\\\\\n",
       "\t 5                & Charmeleon       & Fire             &                  & 405              & 58               & 64               & 58               &  80              &  65              & ...              & Red              & True             & 0.875            & Monster          & Dragon           & False            & 1.09             &  19.0            & 45               & bipedal\\_tailed\\\\\n",
       "\t 6                & Charizard        & Fire             & Flying           & 534              & 78               & 84               & 78               & 109              &  85              & ...              & Red              & True             & 0.875            & Monster          & Dragon           & True             & 1.70             &  90.5            & 45               & bipedal\\_tailed\\\\\n",
       "\\end{tabular}\n"
      ],
      "text/markdown": [
       "\n",
       "| Number | Name | Type_1 | Type_2 | Total | HP | Attack | Defense | Sp_Atk | Sp_Def | ... | Color | hasGender | Pr_Male | Egg_Group_1 | Egg_Group_2 | hasMegaEvolution | Height_m | Weight_kg | Catch_Rate | Body_Style |\n",
       "|---|---|---|---|---|---|---|---|---|---|---|---|---|---|---|---|---|---|---|---|---|\n",
       "| 1              | Bulbasaur      | Grass          | Poison         | 318            | 45             | 49             | 49             |  65            |  65            | ...            | Green          | True           | 0.875          | Monster        | Grass          | False          | 0.71           |   6.9          | 45             | quadruped      |\n",
       "| 2              | Ivysaur        | Grass          | Poison         | 405            | 60             | 62             | 63             |  80            |  80            | ...            | Green          | True           | 0.875          | Monster        | Grass          | False          | 0.99           |  13.0          | 45             | quadruped      |\n",
       "| 3              | Venusaur       | Grass          | Poison         | 525            | 80             | 82             | 83             | 100            | 100            | ...            | Green          | True           | 0.875          | Monster        | Grass          | True           | 2.01           | 100.0          | 45             | quadruped      |\n",
       "| 4              | Charmander     | Fire           |                | 309            | 39             | 52             | 43             |  60            |  50            | ...            | Red            | True           | 0.875          | Monster        | Dragon         | False          | 0.61           |   8.5          | 45             | bipedal_tailed |\n",
       "| 5              | Charmeleon     | Fire           |                | 405            | 58             | 64             | 58             |  80            |  65            | ...            | Red            | True           | 0.875          | Monster        | Dragon         | False          | 1.09           |  19.0          | 45             | bipedal_tailed |\n",
       "| 6              | Charizard      | Fire           | Flying         | 534            | 78             | 84             | 78             | 109            |  85            | ...            | Red            | True           | 0.875          | Monster        | Dragon         | True           | 1.70           |  90.5          | 45             | bipedal_tailed |\n",
       "\n"
      ],
      "text/plain": [
       "  Number Name       Type_1 Type_2 Total HP Attack Defense Sp_Atk Sp_Def ...\n",
       "1 1      Bulbasaur  Grass  Poison 318   45 49     49       65     65    ...\n",
       "2 2      Ivysaur    Grass  Poison 405   60 62     63       80     80    ...\n",
       "3 3      Venusaur   Grass  Poison 525   80 82     83      100    100    ...\n",
       "4 4      Charmander Fire          309   39 52     43       60     50    ...\n",
       "5 5      Charmeleon Fire          405   58 64     58       80     65    ...\n",
       "6 6      Charizard  Fire   Flying 534   78 84     78      109     85    ...\n",
       "  Color hasGender Pr_Male Egg_Group_1 Egg_Group_2 hasMegaEvolution Height_m\n",
       "1 Green True      0.875   Monster     Grass       False            0.71    \n",
       "2 Green True      0.875   Monster     Grass       False            0.99    \n",
       "3 Green True      0.875   Monster     Grass       True             2.01    \n",
       "4 Red   True      0.875   Monster     Dragon      False            0.61    \n",
       "5 Red   True      0.875   Monster     Dragon      False            1.09    \n",
       "6 Red   True      0.875   Monster     Dragon      True             1.70    \n",
       "  Weight_kg Catch_Rate Body_Style    \n",
       "1   6.9     45         quadruped     \n",
       "2  13.0     45         quadruped     \n",
       "3 100.0     45         quadruped     \n",
       "4   8.5     45         bipedal_tailed\n",
       "5  19.0     45         bipedal_tailed\n",
       "6  90.5     45         bipedal_tailed"
      ]
     },
     "metadata": {},
     "output_type": "display_data"
    }
   ],
   "source": [
    "#https://www.kaggle.com/alopez247/pokemon\n",
    "raw.df <- read.csv(\"../data/raw/pokemon/pokemon_alopez247.csv\")\n",
    "head(raw.df)"
   ]
  },
  {
   "cell_type": "code",
   "execution_count": 3,
   "metadata": {
    "scrolled": true
   },
   "outputs": [
    {
     "data": {
      "text/html": [
       "<table>\n",
       "<thead><tr><th scope=col>Number</th><th scope=col>Name</th><th scope=col>Type_1</th><th scope=col>Type_2</th><th scope=col>Total</th><th scope=col>HP</th><th scope=col>Attack</th><th scope=col>Defense</th><th scope=col>Sp_Atk</th><th scope=col>Sp_Def</th><th scope=col>...</th><th scope=col>Color</th><th scope=col>hasGender</th><th scope=col>Pr_Male</th><th scope=col>Egg_Group_1</th><th scope=col>Egg_Group_2</th><th scope=col>hasMegaEvolution</th><th scope=col>Height_m</th><th scope=col>Weight_kg</th><th scope=col>Catch_Rate</th><th scope=col>Body_Style</th></tr></thead>\n",
       "<tbody>\n",
       "\t<tr><td>1             </td><td>Bulbasaur     </td><td>Grass         </td><td>Poison        </td><td>318           </td><td>45            </td><td>49            </td><td>49            </td><td> 65           </td><td> 65           </td><td>...           </td><td>Green         </td><td>True          </td><td>0.875         </td><td>Monster       </td><td>Grass         </td><td>False         </td><td>0.71          </td><td>  6.9         </td><td>45            </td><td>quadruped     </td></tr>\n",
       "\t<tr><td>2             </td><td>Ivysaur       </td><td>Grass         </td><td>Poison        </td><td>405           </td><td>60            </td><td>62            </td><td>63            </td><td> 80           </td><td> 80           </td><td>...           </td><td>Green         </td><td>True          </td><td>0.875         </td><td>Monster       </td><td>Grass         </td><td>False         </td><td>0.99          </td><td> 13.0         </td><td>45            </td><td>quadruped     </td></tr>\n",
       "\t<tr><td>3             </td><td>Venusaur      </td><td>Grass         </td><td>Poison        </td><td>525           </td><td>80            </td><td>82            </td><td>83            </td><td>100           </td><td>100           </td><td>...           </td><td>Green         </td><td>True          </td><td>0.875         </td><td>Monster       </td><td>Grass         </td><td>True          </td><td>2.01          </td><td>100.0         </td><td>45            </td><td>quadruped     </td></tr>\n",
       "\t<tr><td>4             </td><td>Charmander    </td><td>Fire          </td><td>Fire          </td><td>309           </td><td>39            </td><td>52            </td><td>43            </td><td> 60           </td><td> 50           </td><td>...           </td><td>Red           </td><td>True          </td><td>0.875         </td><td>Monster       </td><td>Dragon        </td><td>False         </td><td>0.61          </td><td>  8.5         </td><td>45            </td><td>bipedal_tailed</td></tr>\n",
       "\t<tr><td>5             </td><td>Charmeleon    </td><td>Fire          </td><td>Fire          </td><td>405           </td><td>58            </td><td>64            </td><td>58            </td><td> 80           </td><td> 65           </td><td>...           </td><td>Red           </td><td>True          </td><td>0.875         </td><td>Monster       </td><td>Dragon        </td><td>False         </td><td>1.09          </td><td> 19.0         </td><td>45            </td><td>bipedal_tailed</td></tr>\n",
       "\t<tr><td>6             </td><td>Charizard     </td><td>Fire          </td><td>Flying        </td><td>534           </td><td>78            </td><td>84            </td><td>78            </td><td>109           </td><td> 85           </td><td>...           </td><td>Red           </td><td>True          </td><td>0.875         </td><td>Monster       </td><td>Dragon        </td><td>True          </td><td>1.70          </td><td> 90.5         </td><td>45            </td><td>bipedal_tailed</td></tr>\n",
       "</tbody>\n",
       "</table>\n"
      ],
      "text/latex": [
       "\\begin{tabular}{r|lllllllllllllllllllllll}\n",
       " Number & Name & Type\\_1 & Type\\_2 & Total & HP & Attack & Defense & Sp\\_Atk & Sp\\_Def & ... & Color & hasGender & Pr\\_Male & Egg\\_Group\\_1 & Egg\\_Group\\_2 & hasMegaEvolution & Height\\_m & Weight\\_kg & Catch\\_Rate & Body\\_Style\\\\\n",
       "\\hline\n",
       "\t 1              & Bulbasaur      & Grass          & Poison         & 318            & 45             & 49             & 49             &  65            &  65            & ...            & Green          & True           & 0.875          & Monster        & Grass          & False          & 0.71           &   6.9          & 45             & quadruped     \\\\\n",
       "\t 2              & Ivysaur        & Grass          & Poison         & 405            & 60             & 62             & 63             &  80            &  80            & ...            & Green          & True           & 0.875          & Monster        & Grass          & False          & 0.99           &  13.0          & 45             & quadruped     \\\\\n",
       "\t 3              & Venusaur       & Grass          & Poison         & 525            & 80             & 82             & 83             & 100            & 100            & ...            & Green          & True           & 0.875          & Monster        & Grass          & True           & 2.01           & 100.0          & 45             & quadruped     \\\\\n",
       "\t 4                & Charmander       & Fire             & Fire             & 309              & 39               & 52               & 43               &  60              &  50              & ...              & Red              & True             & 0.875            & Monster          & Dragon           & False            & 0.61             &   8.5            & 45               & bipedal\\_tailed\\\\\n",
       "\t 5                & Charmeleon       & Fire             & Fire             & 405              & 58               & 64               & 58               &  80              &  65              & ...              & Red              & True             & 0.875            & Monster          & Dragon           & False            & 1.09             &  19.0            & 45               & bipedal\\_tailed\\\\\n",
       "\t 6                & Charizard        & Fire             & Flying           & 534              & 78               & 84               & 78               & 109              &  85              & ...              & Red              & True             & 0.875            & Monster          & Dragon           & True             & 1.70             &  90.5            & 45               & bipedal\\_tailed\\\\\n",
       "\\end{tabular}\n"
      ],
      "text/markdown": [
       "\n",
       "| Number | Name | Type_1 | Type_2 | Total | HP | Attack | Defense | Sp_Atk | Sp_Def | ... | Color | hasGender | Pr_Male | Egg_Group_1 | Egg_Group_2 | hasMegaEvolution | Height_m | Weight_kg | Catch_Rate | Body_Style |\n",
       "|---|---|---|---|---|---|---|---|---|---|---|---|---|---|---|---|---|---|---|---|---|\n",
       "| 1              | Bulbasaur      | Grass          | Poison         | 318            | 45             | 49             | 49             |  65            |  65            | ...            | Green          | True           | 0.875          | Monster        | Grass          | False          | 0.71           |   6.9          | 45             | quadruped      |\n",
       "| 2              | Ivysaur        | Grass          | Poison         | 405            | 60             | 62             | 63             |  80            |  80            | ...            | Green          | True           | 0.875          | Monster        | Grass          | False          | 0.99           |  13.0          | 45             | quadruped      |\n",
       "| 3              | Venusaur       | Grass          | Poison         | 525            | 80             | 82             | 83             | 100            | 100            | ...            | Green          | True           | 0.875          | Monster        | Grass          | True           | 2.01           | 100.0          | 45             | quadruped      |\n",
       "| 4              | Charmander     | Fire           | Fire           | 309            | 39             | 52             | 43             |  60            |  50            | ...            | Red            | True           | 0.875          | Monster        | Dragon         | False          | 0.61           |   8.5          | 45             | bipedal_tailed |\n",
       "| 5              | Charmeleon     | Fire           | Fire           | 405            | 58             | 64             | 58             |  80            |  65            | ...            | Red            | True           | 0.875          | Monster        | Dragon         | False          | 1.09           |  19.0          | 45             | bipedal_tailed |\n",
       "| 6              | Charizard      | Fire           | Flying         | 534            | 78             | 84             | 78             | 109            |  85            | ...            | Red            | True           | 0.875          | Monster        | Dragon         | True           | 1.70           |  90.5          | 45             | bipedal_tailed |\n",
       "\n"
      ],
      "text/plain": [
       "  Number Name       Type_1 Type_2 Total HP Attack Defense Sp_Atk Sp_Def ...\n",
       "1 1      Bulbasaur  Grass  Poison 318   45 49     49       65     65    ...\n",
       "2 2      Ivysaur    Grass  Poison 405   60 62     63       80     80    ...\n",
       "3 3      Venusaur   Grass  Poison 525   80 82     83      100    100    ...\n",
       "4 4      Charmander Fire   Fire   309   39 52     43       60     50    ...\n",
       "5 5      Charmeleon Fire   Fire   405   58 64     58       80     65    ...\n",
       "6 6      Charizard  Fire   Flying 534   78 84     78      109     85    ...\n",
       "  Color hasGender Pr_Male Egg_Group_1 Egg_Group_2 hasMegaEvolution Height_m\n",
       "1 Green True      0.875   Monster     Grass       False            0.71    \n",
       "2 Green True      0.875   Monster     Grass       False            0.99    \n",
       "3 Green True      0.875   Monster     Grass       True             2.01    \n",
       "4 Red   True      0.875   Monster     Dragon      False            0.61    \n",
       "5 Red   True      0.875   Monster     Dragon      False            1.09    \n",
       "6 Red   True      0.875   Monster     Dragon      True             1.70    \n",
       "  Weight_kg Catch_Rate Body_Style    \n",
       "1   6.9     45         quadruped     \n",
       "2  13.0     45         quadruped     \n",
       "3 100.0     45         quadruped     \n",
       "4   8.5     45         bipedal_tailed\n",
       "5  19.0     45         bipedal_tailed\n",
       "6  90.5     45         bipedal_tailed"
      ]
     },
     "metadata": {},
     "output_type": "display_data"
    }
   ],
   "source": [
    "fill_type2 <- function(row){\n",
    "    if (row[\"Type_2\"] == ''){\n",
    "        return(row[\"Type_1\"])\n",
    "    } else{\n",
    "        return(row[\"Type_2\"])\n",
    "    }\n",
    "}\n",
    "\n",
    "fill_egg_group <- function(row){\n",
    "    if (row[\"Egg_Group_2\"] == ''){\n",
    "        return(row[\"Egg_Group_1\"])\n",
    "    } else{\n",
    "        return(row[\"Egg_Group_2\"])\n",
    "    }\n",
    "}\n",
    "\n",
    "raw.df$Type_2 <- apply(raw.df, 1, fill_type2)\n",
    "raw.df$Type_2 <- as.factor(raw.df$Type_2)\n",
    "raw.df$Egg_Group_2 <- apply(raw.df, 1, fill_egg_group)\n",
    "raw.df$Egg_Group_2 <- as.factor(raw.df$Egg_Group_2)\n",
    "head(raw.df)"
   ]
  },
  {
   "cell_type": "code",
   "execution_count": 4,
   "metadata": {},
   "outputs": [
    {
     "data": {
      "text/html": [
       "<ol class=list-inline>\n",
       "\t<li>'Number'</li>\n",
       "\t<li>'Name'</li>\n",
       "\t<li>'Type_1'</li>\n",
       "\t<li>'Type_2'</li>\n",
       "\t<li>'Total'</li>\n",
       "\t<li>'HP'</li>\n",
       "\t<li>'Attack'</li>\n",
       "\t<li>'Defense'</li>\n",
       "\t<li>'Sp_Atk'</li>\n",
       "\t<li>'Sp_Def'</li>\n",
       "\t<li>'Speed'</li>\n",
       "\t<li>'Generation'</li>\n",
       "\t<li>'isLegendary'</li>\n",
       "\t<li>'Color'</li>\n",
       "\t<li>'hasGender'</li>\n",
       "\t<li>'Pr_Male'</li>\n",
       "\t<li>'Egg_Group_1'</li>\n",
       "\t<li>'Egg_Group_2'</li>\n",
       "\t<li>'hasMegaEvolution'</li>\n",
       "\t<li>'Height_m'</li>\n",
       "\t<li>'Weight_kg'</li>\n",
       "\t<li>'Catch_Rate'</li>\n",
       "\t<li>'Body_Style'</li>\n",
       "</ol>\n"
      ],
      "text/latex": [
       "\\begin{enumerate*}\n",
       "\\item 'Number'\n",
       "\\item 'Name'\n",
       "\\item 'Type\\_1'\n",
       "\\item 'Type\\_2'\n",
       "\\item 'Total'\n",
       "\\item 'HP'\n",
       "\\item 'Attack'\n",
       "\\item 'Defense'\n",
       "\\item 'Sp\\_Atk'\n",
       "\\item 'Sp\\_Def'\n",
       "\\item 'Speed'\n",
       "\\item 'Generation'\n",
       "\\item 'isLegendary'\n",
       "\\item 'Color'\n",
       "\\item 'hasGender'\n",
       "\\item 'Pr\\_Male'\n",
       "\\item 'Egg\\_Group\\_1'\n",
       "\\item 'Egg\\_Group\\_2'\n",
       "\\item 'hasMegaEvolution'\n",
       "\\item 'Height\\_m'\n",
       "\\item 'Weight\\_kg'\n",
       "\\item 'Catch\\_Rate'\n",
       "\\item 'Body\\_Style'\n",
       "\\end{enumerate*}\n"
      ],
      "text/markdown": [
       "1. 'Number'\n",
       "2. 'Name'\n",
       "3. 'Type_1'\n",
       "4. 'Type_2'\n",
       "5. 'Total'\n",
       "6. 'HP'\n",
       "7. 'Attack'\n",
       "8. 'Defense'\n",
       "9. 'Sp_Atk'\n",
       "10. 'Sp_Def'\n",
       "11. 'Speed'\n",
       "12. 'Generation'\n",
       "13. 'isLegendary'\n",
       "14. 'Color'\n",
       "15. 'hasGender'\n",
       "16. 'Pr_Male'\n",
       "17. 'Egg_Group_1'\n",
       "18. 'Egg_Group_2'\n",
       "19. 'hasMegaEvolution'\n",
       "20. 'Height_m'\n",
       "21. 'Weight_kg'\n",
       "22. 'Catch_Rate'\n",
       "23. 'Body_Style'\n",
       "\n",
       "\n"
      ],
      "text/plain": [
       " [1] \"Number\"           \"Name\"             \"Type_1\"           \"Type_2\"          \n",
       " [5] \"Total\"            \"HP\"               \"Attack\"           \"Defense\"         \n",
       " [9] \"Sp_Atk\"           \"Sp_Def\"           \"Speed\"            \"Generation\"      \n",
       "[13] \"isLegendary\"      \"Color\"            \"hasGender\"        \"Pr_Male\"         \n",
       "[17] \"Egg_Group_1\"      \"Egg_Group_2\"      \"hasMegaEvolution\" \"Height_m\"        \n",
       "[21] \"Weight_kg\"        \"Catch_Rate\"       \"Body_Style\"      "
      ]
     },
     "metadata": {},
     "output_type": "display_data"
    }
   ],
   "source": [
    "colnames(raw.df)"
   ]
  },
  {
   "cell_type": "code",
   "execution_count": 5,
   "metadata": {},
   "outputs": [
    {
     "data": {
      "text/html": [
       "<table>\n",
       "<thead><tr><th scope=col>Type_1</th><th scope=col>Type_2</th><th scope=col>Total</th><th scope=col>HP</th><th scope=col>Attack</th><th scope=col>Defense</th><th scope=col>Sp_Atk</th><th scope=col>Sp_Def</th><th scope=col>Speed</th><th scope=col>isLegendary</th><th scope=col>Color</th><th scope=col>hasGender</th><th scope=col>Pr_Male</th><th scope=col>Egg_Group_1</th><th scope=col>Egg_Group_2</th><th scope=col>hasMegaEvolution</th><th scope=col>Height_m</th><th scope=col>Weight_kg</th><th scope=col>Catch_Rate</th><th scope=col>Body_Style</th></tr></thead>\n",
       "<tbody>\n",
       "\t<tr><td>Grass         </td><td>Poison        </td><td>318           </td><td>45            </td><td>49            </td><td>49            </td><td> 65           </td><td> 65           </td><td> 45           </td><td>False         </td><td>Green         </td><td>True          </td><td>0.875         </td><td>Monster       </td><td>Grass         </td><td>False         </td><td>0.71          </td><td>  6.9         </td><td>45            </td><td>quadruped     </td></tr>\n",
       "\t<tr><td>Grass         </td><td>Poison        </td><td>405           </td><td>60            </td><td>62            </td><td>63            </td><td> 80           </td><td> 80           </td><td> 60           </td><td>False         </td><td>Green         </td><td>True          </td><td>0.875         </td><td>Monster       </td><td>Grass         </td><td>False         </td><td>0.99          </td><td> 13.0         </td><td>45            </td><td>quadruped     </td></tr>\n",
       "\t<tr><td>Grass         </td><td>Poison        </td><td>525           </td><td>80            </td><td>82            </td><td>83            </td><td>100           </td><td>100           </td><td> 80           </td><td>False         </td><td>Green         </td><td>True          </td><td>0.875         </td><td>Monster       </td><td>Grass         </td><td>True          </td><td>2.01          </td><td>100.0         </td><td>45            </td><td>quadruped     </td></tr>\n",
       "\t<tr><td>Fire          </td><td>Fire          </td><td>309           </td><td>39            </td><td>52            </td><td>43            </td><td> 60           </td><td> 50           </td><td> 65           </td><td>False         </td><td>Red           </td><td>True          </td><td>0.875         </td><td>Monster       </td><td>Dragon        </td><td>False         </td><td>0.61          </td><td>  8.5         </td><td>45            </td><td>bipedal_tailed</td></tr>\n",
       "\t<tr><td>Fire          </td><td>Fire          </td><td>405           </td><td>58            </td><td>64            </td><td>58            </td><td> 80           </td><td> 65           </td><td> 80           </td><td>False         </td><td>Red           </td><td>True          </td><td>0.875         </td><td>Monster       </td><td>Dragon        </td><td>False         </td><td>1.09          </td><td> 19.0         </td><td>45            </td><td>bipedal_tailed</td></tr>\n",
       "\t<tr><td>Fire          </td><td>Flying        </td><td>534           </td><td>78            </td><td>84            </td><td>78            </td><td>109           </td><td> 85           </td><td>100           </td><td>False         </td><td>Red           </td><td>True          </td><td>0.875         </td><td>Monster       </td><td>Dragon        </td><td>True          </td><td>1.70          </td><td> 90.5         </td><td>45            </td><td>bipedal_tailed</td></tr>\n",
       "</tbody>\n",
       "</table>\n"
      ],
      "text/latex": [
       "\\begin{tabular}{r|llllllllllllllllllll}\n",
       " Type\\_1 & Type\\_2 & Total & HP & Attack & Defense & Sp\\_Atk & Sp\\_Def & Speed & isLegendary & Color & hasGender & Pr\\_Male & Egg\\_Group\\_1 & Egg\\_Group\\_2 & hasMegaEvolution & Height\\_m & Weight\\_kg & Catch\\_Rate & Body\\_Style\\\\\n",
       "\\hline\n",
       "\t Grass          & Poison         & 318            & 45             & 49             & 49             &  65            &  65            &  45            & False          & Green          & True           & 0.875          & Monster        & Grass          & False          & 0.71           &   6.9          & 45             & quadruped     \\\\\n",
       "\t Grass          & Poison         & 405            & 60             & 62             & 63             &  80            &  80            &  60            & False          & Green          & True           & 0.875          & Monster        & Grass          & False          & 0.99           &  13.0          & 45             & quadruped     \\\\\n",
       "\t Grass          & Poison         & 525            & 80             & 82             & 83             & 100            & 100            &  80            & False          & Green          & True           & 0.875          & Monster        & Grass          & True           & 2.01           & 100.0          & 45             & quadruped     \\\\\n",
       "\t Fire             & Fire             & 309              & 39               & 52               & 43               &  60              &  50              &  65              & False            & Red              & True             & 0.875            & Monster          & Dragon           & False            & 0.61             &   8.5            & 45               & bipedal\\_tailed\\\\\n",
       "\t Fire             & Fire             & 405              & 58               & 64               & 58               &  80              &  65              &  80              & False            & Red              & True             & 0.875            & Monster          & Dragon           & False            & 1.09             &  19.0            & 45               & bipedal\\_tailed\\\\\n",
       "\t Fire             & Flying           & 534              & 78               & 84               & 78               & 109              &  85              & 100              & False            & Red              & True             & 0.875            & Monster          & Dragon           & True             & 1.70             &  90.5            & 45               & bipedal\\_tailed\\\\\n",
       "\\end{tabular}\n"
      ],
      "text/markdown": [
       "\n",
       "| Type_1 | Type_2 | Total | HP | Attack | Defense | Sp_Atk | Sp_Def | Speed | isLegendary | Color | hasGender | Pr_Male | Egg_Group_1 | Egg_Group_2 | hasMegaEvolution | Height_m | Weight_kg | Catch_Rate | Body_Style |\n",
       "|---|---|---|---|---|---|---|---|---|---|---|---|---|---|---|---|---|---|---|---|\n",
       "| Grass          | Poison         | 318            | 45             | 49             | 49             |  65            |  65            |  45            | False          | Green          | True           | 0.875          | Monster        | Grass          | False          | 0.71           |   6.9          | 45             | quadruped      |\n",
       "| Grass          | Poison         | 405            | 60             | 62             | 63             |  80            |  80            |  60            | False          | Green          | True           | 0.875          | Monster        | Grass          | False          | 0.99           |  13.0          | 45             | quadruped      |\n",
       "| Grass          | Poison         | 525            | 80             | 82             | 83             | 100            | 100            |  80            | False          | Green          | True           | 0.875          | Monster        | Grass          | True           | 2.01           | 100.0          | 45             | quadruped      |\n",
       "| Fire           | Fire           | 309            | 39             | 52             | 43             |  60            |  50            |  65            | False          | Red            | True           | 0.875          | Monster        | Dragon         | False          | 0.61           |   8.5          | 45             | bipedal_tailed |\n",
       "| Fire           | Fire           | 405            | 58             | 64             | 58             |  80            |  65            |  80            | False          | Red            | True           | 0.875          | Monster        | Dragon         | False          | 1.09           |  19.0          | 45             | bipedal_tailed |\n",
       "| Fire           | Flying         | 534            | 78             | 84             | 78             | 109            |  85            | 100            | False          | Red            | True           | 0.875          | Monster        | Dragon         | True           | 1.70           |  90.5          | 45             | bipedal_tailed |\n",
       "\n"
      ],
      "text/plain": [
       "  Type_1 Type_2 Total HP Attack Defense Sp_Atk Sp_Def Speed isLegendary Color\n",
       "1 Grass  Poison 318   45 49     49       65     65     45   False       Green\n",
       "2 Grass  Poison 405   60 62     63       80     80     60   False       Green\n",
       "3 Grass  Poison 525   80 82     83      100    100     80   False       Green\n",
       "4 Fire   Fire   309   39 52     43       60     50     65   False       Red  \n",
       "5 Fire   Fire   405   58 64     58       80     65     80   False       Red  \n",
       "6 Fire   Flying 534   78 84     78      109     85    100   False       Red  \n",
       "  hasGender Pr_Male Egg_Group_1 Egg_Group_2 hasMegaEvolution Height_m Weight_kg\n",
       "1 True      0.875   Monster     Grass       False            0.71       6.9    \n",
       "2 True      0.875   Monster     Grass       False            0.99      13.0    \n",
       "3 True      0.875   Monster     Grass       True             2.01     100.0    \n",
       "4 True      0.875   Monster     Dragon      False            0.61       8.5    \n",
       "5 True      0.875   Monster     Dragon      False            1.09      19.0    \n",
       "6 True      0.875   Monster     Dragon      True             1.70      90.5    \n",
       "  Catch_Rate Body_Style    \n",
       "1 45         quadruped     \n",
       "2 45         quadruped     \n",
       "3 45         quadruped     \n",
       "4 45         bipedal_tailed\n",
       "5 45         bipedal_tailed\n",
       "6 45         bipedal_tailed"
      ]
     },
     "metadata": {},
     "output_type": "display_data"
    }
   ],
   "source": [
    "df <- raw.df %>% select(-c(Number, Name, Generation))\n",
    "df$Type_2 <- as.factor(df$Type_2)\n",
    "head(df)"
   ]
  },
  {
   "cell_type": "code",
   "execution_count": 227,
   "metadata": {},
   "outputs": [],
   "source": [
    "dist.mat <- daisy(df, metric=\"gower\")"
   ]
  },
  {
   "cell_type": "markdown",
   "metadata": {},
   "source": [
    "It may occur that two Pokemon share a Type and/or Egg Group in different slots e.g. Water/Ground vs. Ground/Flying. Want to make sure the distance between these two Pokemon accounts for this similarity.\n",
    "\n",
    "For each pair of Pokemon, check if Type/EG follows this pattern. If so, switch one of the Pokemon's Type/EG (Type_1 -> Type_2, Type_2 -> Type_1) and recalculate distance matrix. Set distance between these two Pokemon the the new value, leave rest unchanged. This is a pretty inefficient way of doing this (recalculating distance matrix each time), but #yolo."
   ]
  },
  {
   "cell_type": "code",
   "execution_count": 286,
   "metadata": {
    "scrolled": true
   },
   "outputs": [],
   "source": [
    "adjust_dual_params <- function(dist.mat, df){\n",
    "    dist.mat.adj <- as.matrix(dist.mat)\n",
    "\n",
    "    for ( row1 in 1:(nrow(raw.df)-1) ){\n",
    "        r1.type1 <- as.character(df[row1,]$Type_1)\n",
    "        r1.type2 <- as.character(df[row1,]$Type_2)\n",
    "        r1.eg1 <- as.character(df[row1,]$Egg_Group_1)\n",
    "        r1.eg2 <- as.character(df[row1,]$Egg_Group_2)\n",
    "\n",
    "        for ( row2 in (row1+1):(nrow(raw.df)-1) ){ # calculate each pair only once\n",
    "            r2.type1 <-as.character(df[row2,]$Type_1)\n",
    "            r2.type2 <-as.character(df[row2,]$Type_2)\n",
    "            r2.eg1 <- as.character(df[row2,]$Egg_Group_1)\n",
    "            r2.eg2 <- as.character(df[row2,]$Egg_Group_2)\n",
    "\n",
    "            # for both type and egg group check that\n",
    "            #  1) follows pattern\n",
    "            #  2) dual type/egg group\n",
    "            type.check <- r1.type1 == r2.type2 | r1.type2 == r2.type1\n",
    "            type.check <- type.check & (r1.type1 != r1.type2) & (r2.type1 != r2.type2)\n",
    "\n",
    "            eg.check <- r1.eg1 == r2.eg2 | r1.eg2 == r2.eg1\n",
    "            eg.check <- eg.check & (r1.eg1 != r1.eg2) & (r2.eg1 != r2.eg2)\n",
    "\n",
    "            if ( !(type.check | eg.check) ){ # if neither type nor egg group follows pattern\n",
    "                next\n",
    "            }\n",
    "\n",
    "            df.new <- df\n",
    "            if (type.check){\n",
    "                df.new[row1,]$Type_1 <- r1.type2\n",
    "                df.new[row1,]$Type_2 <- r1.type1          \n",
    "            }\n",
    "            if (eg.check){\n",
    "                df.new[row1,]$Egg_Group_1 <- r1.eg2\n",
    "                df.new[row1,]$Egg_Group_2 <- r1.eg1\n",
    "            }\n",
    "\n",
    "            new.gower <- daisy(df.new, metric=\"gower\")\n",
    "            dist.mat.adj[row1, row2] <- as.matrix(new.gower)[row1, row2]\n",
    "        }\n",
    "    }\n",
    "\n",
    "    return(dist.mat.adj)\n",
    "}"
   ]
  },
  {
   "cell_type": "code",
   "execution_count": 287,
   "metadata": {},
   "outputs": [],
   "source": [
    "dist.mat.adj <- adjust_dual_params(dist.mat, df)"
   ]
  },
  {
   "cell_type": "code",
   "execution_count": 7,
   "metadata": {},
   "outputs": [],
   "source": [
    "write.csv(as.matrix(dist.mat.adj), \"../data/processed/pokemon_dm_gower.csv\")"
   ]
  },
  {
   "cell_type": "code",
   "execution_count": 8,
   "metadata": {},
   "outputs": [
    {
     "data": {
      "text/html": [
       "<table>\n",
       "<thead><tr><th scope=col>Type_1</th><th scope=col>Type_2</th><th scope=col>isLegendary</th><th scope=col>Color</th><th scope=col>hasGender</th><th scope=col>Egg_Group_1</th><th scope=col>Egg_Group_2</th><th scope=col>hasMegaEvolution</th><th scope=col>Body_Style</th></tr></thead>\n",
       "<tbody>\n",
       "\t<tr><td>Grass         </td><td>Poison        </td><td>False         </td><td>Green         </td><td>True          </td><td>Monster       </td><td>Grass         </td><td>False         </td><td>quadruped     </td></tr>\n",
       "\t<tr><td>Grass         </td><td>Poison        </td><td>False         </td><td>Green         </td><td>True          </td><td>Monster       </td><td>Grass         </td><td>False         </td><td>quadruped     </td></tr>\n",
       "\t<tr><td>Grass         </td><td>Poison        </td><td>False         </td><td>Green         </td><td>True          </td><td>Monster       </td><td>Grass         </td><td>True          </td><td>quadruped     </td></tr>\n",
       "\t<tr><td>Fire          </td><td>Fire          </td><td>False         </td><td>Red           </td><td>True          </td><td>Monster       </td><td>Dragon        </td><td>False         </td><td>bipedal_tailed</td></tr>\n",
       "\t<tr><td>Fire          </td><td>Fire          </td><td>False         </td><td>Red           </td><td>True          </td><td>Monster       </td><td>Dragon        </td><td>False         </td><td>bipedal_tailed</td></tr>\n",
       "\t<tr><td>Fire          </td><td>Flying        </td><td>False         </td><td>Red           </td><td>True          </td><td>Monster       </td><td>Dragon        </td><td>True          </td><td>bipedal_tailed</td></tr>\n",
       "</tbody>\n",
       "</table>\n"
      ],
      "text/latex": [
       "\\begin{tabular}{r|lllllllll}\n",
       " Type\\_1 & Type\\_2 & isLegendary & Color & hasGender & Egg\\_Group\\_1 & Egg\\_Group\\_2 & hasMegaEvolution & Body\\_Style\\\\\n",
       "\\hline\n",
       "\t Grass          & Poison         & False          & Green          & True           & Monster        & Grass          & False          & quadruped     \\\\\n",
       "\t Grass          & Poison         & False          & Green          & True           & Monster        & Grass          & False          & quadruped     \\\\\n",
       "\t Grass          & Poison         & False          & Green          & True           & Monster        & Grass          & True           & quadruped     \\\\\n",
       "\t Fire             & Fire             & False            & Red              & True             & Monster          & Dragon           & False            & bipedal\\_tailed\\\\\n",
       "\t Fire             & Fire             & False            & Red              & True             & Monster          & Dragon           & False            & bipedal\\_tailed\\\\\n",
       "\t Fire             & Flying           & False            & Red              & True             & Monster          & Dragon           & True             & bipedal\\_tailed\\\\\n",
       "\\end{tabular}\n"
      ],
      "text/markdown": [
       "\n",
       "| Type_1 | Type_2 | isLegendary | Color | hasGender | Egg_Group_1 | Egg_Group_2 | hasMegaEvolution | Body_Style |\n",
       "|---|---|---|---|---|---|---|---|---|\n",
       "| Grass          | Poison         | False          | Green          | True           | Monster        | Grass          | False          | quadruped      |\n",
       "| Grass          | Poison         | False          | Green          | True           | Monster        | Grass          | False          | quadruped      |\n",
       "| Grass          | Poison         | False          | Green          | True           | Monster        | Grass          | True           | quadruped      |\n",
       "| Fire           | Fire           | False          | Red            | True           | Monster        | Dragon         | False          | bipedal_tailed |\n",
       "| Fire           | Fire           | False          | Red            | True           | Monster        | Dragon         | False          | bipedal_tailed |\n",
       "| Fire           | Flying         | False          | Red            | True           | Monster        | Dragon         | True           | bipedal_tailed |\n",
       "\n"
      ],
      "text/plain": [
       "  Type_1 Type_2 isLegendary Color hasGender Egg_Group_1 Egg_Group_2\n",
       "1 Grass  Poison False       Green True      Monster     Grass      \n",
       "2 Grass  Poison False       Green True      Monster     Grass      \n",
       "3 Grass  Poison False       Green True      Monster     Grass      \n",
       "4 Fire   Fire   False       Red   True      Monster     Dragon     \n",
       "5 Fire   Fire   False       Red   True      Monster     Dragon     \n",
       "6 Fire   Flying False       Red   True      Monster     Dragon     \n",
       "  hasMegaEvolution Body_Style    \n",
       "1 False            quadruped     \n",
       "2 False            quadruped     \n",
       "3 True             quadruped     \n",
       "4 False            bipedal_tailed\n",
       "5 False            bipedal_tailed\n",
       "6 True             bipedal_tailed"
      ]
     },
     "metadata": {},
     "output_type": "display_data"
    }
   ],
   "source": [
    "df2 <- raw.df %>% select(-c(Number, Name, Generation, Pr_Male, Total, HP, Attack, Defense, Sp_Atk, Sp_Def, Speed, Height_m, Weight_kg, Catch_Rate))\n",
    "head(df2)"
   ]
  },
  {
   "cell_type": "code",
   "execution_count": 307,
   "metadata": {},
   "outputs": [],
   "source": [
    "dist.mat2 <- daisy(df2, metric=\"gower\")"
   ]
  },
  {
   "cell_type": "code",
   "execution_count": 308,
   "metadata": {},
   "outputs": [],
   "source": [
    "dist.mat2.adj <- adjust_dual_params(dist.mat2, df2)"
   ]
  },
  {
   "cell_type": "code",
   "execution_count": 10,
   "metadata": {},
   "outputs": [],
   "source": [
    "write.csv(as.matrix(dist.mat2.adj), \"../data/processed/pokemon_dm_gower_only_categorical.csv\")"
   ]
  }
 ],
 "metadata": {
  "kernelspec": {
   "display_name": "R",
   "language": "R",
   "name": "ir"
  },
  "language_info": {
   "codemirror_mode": "r",
   "file_extension": ".r",
   "mimetype": "text/x-r-source",
   "name": "R",
   "pygments_lexer": "r",
   "version": "3.6.1"
  }
 },
 "nbformat": 4,
 "nbformat_minor": 2
}
